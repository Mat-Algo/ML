{
 "cells": [
  {
   "cell_type": "markdown",
   "id": "518963e1",
   "metadata": {},
   "source": [
    "MNIST dataset\n",
    "\n",
    "CNN\n",
    "\n",
    "Keras is a high level neural network's API written in python"
   ]
  },
  {
   "cell_type": "code",
   "execution_count": 1,
   "id": "04fb3cd5",
   "metadata": {},
   "outputs": [],
   "source": [
    "from keras.datasets import mnist\n",
    "from keras.preprocessing.image import load_img, array_to_img\n",
    "from keras.utils.np_utils import to_categorical\n",
    "from keras.models import Sequential\n",
    "from keras.layers import Dense\n",
    "\n",
    "import numpy as np\n",
    "import matplotlib.pyplot as plt"
   ]
  },
  {
   "cell_type": "code",
   "execution_count": 2,
   "id": "a51b4d61",
   "metadata": {},
   "outputs": [],
   "source": [
    "# Load the data\n",
    "(x_train,y_train),(x_test,y_test) = mnist.load_data()"
   ]
  },
  {
   "cell_type": "code",
   "execution_count": 3,
   "id": "a8dadb19",
   "metadata": {},
   "outputs": [
    {
     "name": "stdout",
     "output_type": "stream",
     "text": [
      "(60000, 28, 28)\n",
      "(60000,)\n",
      "(10000, 28, 28)\n",
      "(10000,)\n"
     ]
    }
   ],
   "source": [
    "print(x_train.shape)\n",
    "print(y_train.shape)\n",
    "print(x_test.shape)\n",
    "print(y_test.shape)"
   ]
  },
  {
   "cell_type": "code",
   "execution_count": 4,
   "id": "868f5724",
   "metadata": {},
   "outputs": [
    {
     "data": {
      "text/plain": [
       "(28, 28)"
      ]
     },
     "execution_count": 4,
     "metadata": {},
     "output_type": "execute_result"
    }
   ],
   "source": [
    "# Understand the image format\n",
    "x_train[0].shape"
   ]
  },
  {
   "cell_type": "code",
   "execution_count": 5,
   "id": "9ea9e032",
   "metadata": {},
   "outputs": [
    {
     "data": {
      "text/plain": [
       "<matplotlib.image.AxesImage at 0x2438a5e8fd0>"
      ]
     },
     "execution_count": 5,
     "metadata": {},
     "output_type": "execute_result"
    },
    {
     "data": {
      "image/png": "[encoded data removed]",
      "text/plain": [
       "<Figure size 432x288 with 1 Axes>"
      ]
     },
     "metadata": {
      "needs_background": "light"
     },
     "output_type": "display_data"
    }
   ],
   "source": [
    "plt.imshow(x_train[0],cmap = \"gray\")"
   ]
  },
  {
   "cell_type": "code",
   "execution_count": 6,
   "id": "585cca5c",
   "metadata": {},
   "outputs": [
    {
     "data": {
      "text/plain": [
       "5"
      ]
     },
     "execution_count": 6,
     "metadata": {},
     "output_type": "execute_result"
    }
   ],
   "source": [
    "y_train[0]"
   ]
  },
  {
   "cell_type": "code",
   "execution_count": 7,
   "id": "2c07b016",
   "metadata": {},
   "outputs": [],
   "source": [
    "# Preprocess the image data\n",
    "image_height,image_width = 28,28"
   ]
  },
  {
   "cell_type": "code",
   "execution_count": 8,
   "id": "5eb50a99",
   "metadata": {},
   "outputs": [
    {
     "name": "stdout",
     "output_type": "stream",
     "text": [
      "(60000, 784)\n",
      "(10000, 784)\n"
     ]
    }
   ],
   "source": [
    "x_train = x_train.reshape(60000,image_height*image_width)\n",
    "x_test  = x_test.reshape(10000,image_height*image_width)\n",
    "\n",
    "print(x_train.shape)\n",
    "print(x_test.shape)"
   ]
  },
  {
   "cell_type": "code",
   "execution_count": 9,
   "id": "73da42b1",
   "metadata": {},
   "outputs": [
    {
     "name": "stdout",
     "output_type": "stream",
     "text": [
      "[  0   0   0   0   0   0   0   0   0   0   0   0   0   0   0   0   0   0\n",
      "   0   0   0   0   0   0   0   0   0   0   0   0   0   0   0   0   0   0\n",
      "   0   0   0   0   0   0   0   0   0   0   0   0   0   0   0   0   0   0\n",
      "   0   0   0   0   0   0   0   0   0   0   0   0   0   0   0   0   0   0\n",
      "   0   0   0   0   0   0   0   0   0   0   0   0   0   0   0   0   0   0\n",
      "   0   0   0   0   0   0   0   0   0   0   0   0   0   0   0   0   0   0\n",
      "   0   0   0   0   0   0   0   0   0   0   0   0   0   0   0   0   0   0\n",
      "   0   0   0   0   0   0   0   0   0   0   0   0   0   0   0   0   0   0\n",
      "   0   0   0   0   0   0   0   0   3  18  18  18 126 136 175  26 166 255\n",
      " 247 127   0   0   0   0   0   0   0   0   0   0   0   0  30  36  94 154\n",
      " 170 253 253 253 253 253 225 172 253 242 195  64   0   0   0   0   0   0\n",
      "   0   0   0   0   0  49 238 253 253 253 253 253 253 253 253 251  93  82\n",
      "  82  56  39   0   0   0   0   0   0   0   0   0   0   0   0  18 219 253\n",
      " 253 253 253 253 198 182 247 241   0   0   0   0   0   0   0   0   0   0\n",
      "   0   0   0   0   0   0   0   0  80 156 107 253 253 205  11   0  43 154\n",
      "   0   0   0   0   0   0   0   0   0   0   0   0   0   0   0   0   0   0\n",
      "   0  14   1 154 253  90   0   0   0   0   0   0   0   0   0   0   0   0\n",
      "   0   0   0   0   0   0   0   0   0   0   0   0   0 139 253 190   2   0\n",
      "   0   0   0   0   0   0   0   0   0   0   0   0   0   0   0   0   0   0\n",
      "   0   0   0   0   0  11 190 253  70   0   0   0   0   0   0   0   0   0\n",
      "   0   0   0   0   0   0   0   0   0   0   0   0   0   0   0   0  35 241\n",
      " 225 160 108   1   0   0   0   0   0   0   0   0   0   0   0   0   0   0\n",
      "   0   0   0   0   0   0   0   0   0  81 240 253 253 119  25   0   0   0\n",
      "   0   0   0   0   0   0   0   0   0   0   0   0   0   0   0   0   0   0\n",
      "   0   0  45 186 253 253 150  27   0   0   0   0   0   0   0   0   0   0\n",
      "   0   0   0   0   0   0   0   0   0   0   0   0   0  16  93 252 253 187\n",
      "   0   0   0   0   0   0   0   0   0   0   0   0   0   0   0   0   0   0\n",
      "   0   0   0   0   0   0   0 249 253 249  64   0   0   0   0   0   0   0\n",
      "   0   0   0   0   0   0   0   0   0   0   0   0   0   0  46 130 183 253\n",
      " 253 207   2   0   0   0   0   0   0   0   0   0   0   0   0   0   0   0\n",
      "   0   0   0   0  39 148 229 253 253 253 250 182   0   0   0   0   0   0\n",
      "   0   0   0   0   0   0   0   0   0   0   0   0  24 114 221 253 253 253\n",
      " 253 201  78   0   0   0   0   0   0   0   0   0   0   0   0   0   0   0\n",
      "   0   0  23  66 213 253 253 253 253 198  81   2   0   0   0   0   0   0\n",
      "   0   0   0   0   0   0   0   0   0   0  18 171 219 253 253 253 253 195\n",
      "  80   9   0   0   0   0   0   0   0   0   0   0   0   0   0   0   0   0\n",
      "  55 172 226 253 253 253 253 244 133  11   0   0   0   0   0   0   0   0\n",
      "   0   0   0   0   0   0   0   0   0   0 136 253 253 253 212 135 132  16\n",
      "   0   0   0   0   0   0   0   0   0   0   0   0   0   0   0   0   0   0\n",
      "   0   0   0   0   0   0   0   0   0   0   0   0   0   0   0   0   0   0\n",
      "   0   0   0   0   0   0   0   0   0   0   0   0   0   0   0   0   0   0\n",
      "   0   0   0   0   0   0   0   0   0   0   0   0   0   0   0   0   0   0\n",
      "   0   0   0   0   0   0   0   0   0   0   0   0   0   0   0   0   0   0\n",
      "   0   0   0   0   0   0   0   0   0   0]\n"
     ]
    }
   ],
   "source": [
    "print(x_train[0])\n",
    "x_train = x_train.astype('float32')\n",
    "x_test = x_test.astype('float32')\n"
   ]
  },
  {
   "cell_type": "code",
   "execution_count": 10,
   "id": "b2c93490",
   "metadata": {},
   "outputs": [
    {
     "name": "stdout",
     "output_type": "stream",
     "text": [
      "[0.         0.         0.         0.         0.         0.\n",
      " 0.         0.         0.         0.         0.         0.\n",
      " 0.         0.         0.         0.         0.         0.\n",
      " 0.         0.         0.         0.         0.         0.\n",
      " 0.         0.         0.         0.         0.         0.\n",
      " 0.         0.         0.         0.         0.         0.\n",
      " 0.         0.         0.         0.         0.         0.\n",
      " 0.         0.         0.         0.         0.         0.\n",
      " 0.         0.         0.         0.         0.         0.\n",
      " 0.         0.         0.         0.         0.         0.\n",
      " 0.         0.         0.         0.         0.         0.\n",
      " 0.         0.         0.         0.         0.         0.\n",
      " 0.         0.         0.         0.         0.         0.\n",
      " 0.         0.         0.         0.         0.         0.\n",
      " 0.         0.         0.         0.         0.         0.\n",
      " 0.         0.         0.         0.         0.         0.\n",
      " 0.         0.         0.         0.         0.         0.\n",
      " 0.         0.         0.         0.         0.         0.\n",
      " 0.         0.         0.         0.         0.         0.\n",
      " 0.         0.         0.         0.         0.         0.\n",
      " 0.         0.         0.         0.         0.         0.\n",
      " 0.         0.         0.         0.         0.         0.\n",
      " 0.         0.         0.         0.         0.         0.\n",
      " 0.         0.         0.         0.         0.         0.\n",
      " 0.         0.         0.         0.         0.         0.\n",
      " 0.         0.         0.01176471 0.07058824 0.07058824 0.07058824\n",
      " 0.49411765 0.53333336 0.6862745  0.10196079 0.6509804  1.\n",
      " 0.96862745 0.49803922 0.         0.         0.         0.\n",
      " 0.         0.         0.         0.         0.         0.\n",
      " 0.         0.         0.11764706 0.14117648 0.36862746 0.6039216\n",
      " 0.6666667  0.99215686 0.99215686 0.99215686 0.99215686 0.99215686\n",
      " 0.88235295 0.6745098  0.99215686 0.9490196  0.7647059  0.2509804\n",
      " 0.         0.         0.         0.         0.         0.\n",
      " 0.         0.         0.         0.         0.         0.19215687\n",
      " 0.93333334 0.99215686 0.99215686 0.99215686 0.99215686 0.99215686\n",
      " 0.99215686 0.99215686 0.99215686 0.9843137  0.3647059  0.32156864\n",
      " 0.32156864 0.21960784 0.15294118 0.         0.         0.\n",
      " 0.         0.         0.         0.         0.         0.\n",
      " 0.         0.         0.         0.07058824 0.85882354 0.99215686\n",
      " 0.99215686 0.99215686 0.99215686 0.99215686 0.7764706  0.7137255\n",
      " 0.96862745 0.94509804 0.         0.         0.         0.\n",
      " 0.         0.         0.         0.         0.         0.\n",
      " 0.         0.         0.         0.         0.         0.\n",
      " 0.         0.         0.3137255  0.6117647  0.41960785 0.99215686\n",
      " 0.99215686 0.8039216  0.04313726 0.         0.16862746 0.6039216\n",
      " 0.         0.         0.         0.         0.         0.\n",
      " 0.         0.         0.         0.         0.         0.\n",
      " 0.         0.         0.         0.         0.         0.\n",
      " 0.         0.05490196 0.00392157 0.6039216  0.99215686 0.3529412\n",
      " 0.         0.         0.         0.         0.         0.\n",
      " 0.         0.         0.         0.         0.         0.\n",
      " 0.         0.         0.         0.         0.         0.\n",
      " 0.         0.         0.         0.         0.         0.\n",
      " 0.         0.54509807 0.99215686 0.74509805 0.00784314 0.\n",
      " 0.         0.         0.         0.         0.         0.\n",
      " 0.         0.         0.         0.         0.         0.\n",
      " 0.         0.         0.         0.         0.         0.\n",
      " 0.         0.         0.         0.         0.         0.04313726\n",
      " 0.74509805 0.99215686 0.27450982 0.         0.         0.\n",
      " 0.         0.         0.         0.         0.         0.\n",
      " 0.         0.         0.         0.         0.         0.\n",
      " 0.         0.         0.         0.         0.         0.\n",
      " 0.         0.         0.         0.         0.13725491 0.94509804\n",
      " 0.88235295 0.627451   0.42352942 0.00392157 0.         0.\n",
      " 0.         0.         0.         0.         0.         0.\n",
      " 0.         0.         0.         0.         0.         0.\n",
      " 0.         0.         0.         0.         0.         0.\n",
      " 0.         0.         0.         0.31764707 0.9411765  0.99215686\n",
      " 0.99215686 0.46666667 0.09803922 0.         0.         0.\n",
      " 0.         0.         0.         0.         0.         0.\n",
      " 0.         0.         0.         0.         0.         0.\n",
      " 0.         0.         0.         0.         0.         0.\n",
      " 0.         0.         0.1764706  0.7294118  0.99215686 0.99215686\n",
      " 0.5882353  0.10588235 0.         0.         0.         0.\n",
      " 0.         0.         0.         0.         0.         0.\n",
      " 0.         0.         0.         0.         0.         0.\n",
      " 0.         0.         0.         0.         0.         0.\n",
      " 0.         0.0627451  0.3647059  0.9882353  0.99215686 0.73333335\n",
      " 0.         0.         0.         0.         0.         0.\n",
      " 0.         0.         0.         0.         0.         0.\n",
      " 0.         0.         0.         0.         0.         0.\n",
      " 0.         0.         0.         0.         0.         0.\n",
      " 0.         0.9764706  0.99215686 0.9764706  0.2509804  0.\n",
      " 0.         0.         0.         0.         0.         0.\n",
      " 0.         0.         0.         0.         0.         0.\n",
      " 0.         0.         0.         0.         0.         0.\n",
      " 0.         0.         0.18039216 0.50980395 0.7176471  0.99215686\n",
      " 0.99215686 0.8117647  0.00784314 0.         0.         0.\n",
      " 0.         0.         0.         0.         0.         0.\n",
      " 0.         0.         0.         0.         0.         0.\n",
      " 0.         0.         0.         0.         0.15294118 0.5803922\n",
      " 0.8980392  0.99215686 0.99215686 0.99215686 0.98039216 0.7137255\n",
      " 0.         0.         0.         0.         0.         0.\n",
      " 0.         0.         0.         0.         0.         0.\n",
      " 0.         0.         0.         0.         0.         0.\n",
      " 0.09411765 0.44705883 0.8666667  0.99215686 0.99215686 0.99215686\n",
      " 0.99215686 0.7882353  0.30588236 0.         0.         0.\n",
      " 0.         0.         0.         0.         0.         0.\n",
      " 0.         0.         0.         0.         0.         0.\n",
      " 0.         0.         0.09019608 0.25882354 0.8352941  0.99215686\n",
      " 0.99215686 0.99215686 0.99215686 0.7764706  0.31764707 0.00784314\n",
      " 0.         0.         0.         0.         0.         0.\n",
      " 0.         0.         0.         0.         0.         0.\n",
      " 0.         0.         0.         0.         0.07058824 0.67058825\n",
      " 0.85882354 0.99215686 0.99215686 0.99215686 0.99215686 0.7647059\n",
      " 0.3137255  0.03529412 0.         0.         0.         0.\n",
      " 0.         0.         0.         0.         0.         0.\n",
      " 0.         0.         0.         0.         0.         0.\n",
      " 0.21568628 0.6745098  0.8862745  0.99215686 0.99215686 0.99215686\n",
      " 0.99215686 0.95686275 0.52156866 0.04313726 0.         0.\n",
      " 0.         0.         0.         0.         0.         0.\n",
      " 0.         0.         0.         0.         0.         0.\n",
      " 0.         0.         0.         0.         0.53333336 0.99215686\n",
      " 0.99215686 0.99215686 0.83137256 0.5294118  0.5176471  0.0627451\n",
      " 0.         0.         0.         0.         0.         0.\n",
      " 0.         0.         0.         0.         0.         0.\n",
      " 0.         0.         0.         0.         0.         0.\n",
      " 0.         0.         0.         0.         0.         0.\n",
      " 0.         0.         0.         0.         0.         0.\n",
      " 0.         0.         0.         0.         0.         0.\n",
      " 0.         0.         0.         0.         0.         0.\n",
      " 0.         0.         0.         0.         0.         0.\n",
      " 0.         0.         0.         0.         0.         0.\n",
      " 0.         0.         0.         0.         0.         0.\n",
      " 0.         0.         0.         0.         0.         0.\n",
      " 0.         0.         0.         0.         0.         0.\n",
      " 0.         0.         0.         0.         0.         0.\n",
      " 0.         0.         0.         0.         0.         0.\n",
      " 0.         0.         0.         0.         0.         0.\n",
      " 0.         0.         0.         0.         0.         0.\n",
      " 0.         0.         0.         0.        ]\n"
     ]
    }
   ],
   "source": [
    "x_train /=255.0\n",
    "x_test /= 255.0\n",
    "print(x_train[0])"
   ]
  },
  {
   "cell_type": "code",
   "execution_count": 11,
   "id": "6e819267",
   "metadata": {},
   "outputs": [
    {
     "name": "stdout",
     "output_type": "stream",
     "text": [
      "(10000,)\n",
      "(60000,)\n"
     ]
    }
   ],
   "source": [
    "print(y_test.shape)\n",
    "print(y_train.shape)\n"
   ]
  },
  {
   "cell_type": "markdown",
   "id": "c771f598",
   "metadata": {},
   "source": [
    "Converting the target value in to 10 bins. So we will see that the output form a model will then go in into one of these 10 bins"
   ]
  },
  {
   "cell_type": "code",
   "execution_count": 12,
   "id": "62ff28a7",
   "metadata": {},
   "outputs": [
    {
     "name": "stdout",
     "output_type": "stream",
     "text": [
      "(60000, 10)\n",
      "(10000, 10)\n"
     ]
    }
   ],
   "source": [
    "y_train = to_categorical(y_train,10)\n",
    "y_test = to_categorical(y_test,10)\n",
    "\n",
    "print(y_train.shape)\n",
    "print(y_test.shape)"
   ]
  },
  {
   "cell_type": "code",
   "execution_count": 13,
   "id": "627a749e",
   "metadata": {},
   "outputs": [],
   "source": [
    "# Building the model\n",
    "model = Sequential()\n",
    "\n",
    "model.add(Dense(512,activation='relu',input_shape = (784,)))\n",
    "model.add(Dense(512,activation='relu'))\n",
    "model.add(Dense(10,activation = 'softmax'))"
   ]
  },
  {
   "cell_type": "code",
   "execution_count": 14,
   "id": "b10fae29",
   "metadata": {},
   "outputs": [
    {
     "name": "stdout",
     "output_type": "stream",
     "text": [
      "Model: \"sequential\"\n",
      "_________________________________________________________________\n",
      " Layer (type)                Output Shape              Param #   \n",
      "=================================================================\n",
      " dense (Dense)               (None, 512)               401920    \n",
      "                                                                 \n",
      " dense_1 (Dense)             (None, 512)               262656    \n",
      "                                                                 \n",
      " dense_2 (Dense)             (None, 10)                5130      \n",
      "                                                                 \n",
      "=================================================================\n",
      "Total params: 669,706\n",
      "Trainable params: 669,706\n",
      "Non-trainable params: 0\n",
      "_________________________________________________________________\n"
     ]
    }
   ],
   "source": [
    "# Compile the model\n",
    "\n",
    "model.compile(optimizer = 'adam', loss = 'categorical_crossentropy',metrics = ['accuracy'])\n",
    "model.summary()"
   ]
  },
  {
   "cell_type": "code",
   "execution_count": 15,
   "id": "04c5a593",
   "metadata": {},
   "outputs": [
    {
     "name": "stdout",
     "output_type": "stream",
     "text": [
      "Epoch 1/15\n",
      "1875/1875 [==============================] - 14s 7ms/step - loss: 0.1839 - accuracy: 0.9436 - val_loss: 0.1015 - val_accuracy: 0.9691\n",
      "Epoch 2/15\n",
      "1875/1875 [==============================] - 13s 7ms/step - loss: 0.0806 - accuracy: 0.9742 - val_loss: 0.0815 - val_accuracy: 0.9755\n",
      "Epoch 3/15\n",
      "1875/1875 [==============================] - 13s 7ms/step - loss: 0.0553 - accuracy: 0.9826 - val_loss: 0.0975 - val_accuracy: 0.9718\n",
      "Epoch 4/15\n",
      "1875/1875 [==============================] - 14s 7ms/step - loss: 0.0413 - accuracy: 0.9871 - val_loss: 0.0815 - val_accuracy: 0.9772\n",
      "Epoch 5/15\n",
      "1875/1875 [==============================] - 14s 8ms/step - loss: 0.0347 - accuracy: 0.9892 - val_loss: 0.0842 - val_accuracy: 0.9785\n",
      "Epoch 6/15\n",
      "1875/1875 [==============================] - 14s 8ms/step - loss: 0.0283 - accuracy: 0.9905 - val_loss: 0.0870 - val_accuracy: 0.9796\n",
      "Epoch 7/15\n",
      "1875/1875 [==============================] - 13s 7ms/step - loss: 0.0238 - accuracy: 0.9926 - val_loss: 0.1086 - val_accuracy: 0.9780\n",
      "Epoch 8/15\n",
      "1875/1875 [==============================] - 13s 7ms/step - loss: 0.0238 - accuracy: 0.9928 - val_loss: 0.0896 - val_accuracy: 0.9830\n",
      "Epoch 9/15\n",
      "1875/1875 [==============================] - 13s 7ms/step - loss: 0.0210 - accuracy: 0.9934 - val_loss: 0.0985 - val_accuracy: 0.9801\n",
      "Epoch 10/15\n",
      "1875/1875 [==============================] - 13s 7ms/step - loss: 0.0195 - accuracy: 0.9941 - val_loss: 0.1016 - val_accuracy: 0.9798\n",
      "Epoch 11/15\n",
      "1875/1875 [==============================] - 14s 7ms/step - loss: 0.0181 - accuracy: 0.9945 - val_loss: 0.0983 - val_accuracy: 0.9822\n",
      "Epoch 12/15\n",
      "1875/1875 [==============================] - 14s 7ms/step - loss: 0.0144 - accuracy: 0.9957 - val_loss: 0.0942 - val_accuracy: 0.9821\n",
      "Epoch 13/15\n",
      "1875/1875 [==============================] - 13s 7ms/step - loss: 0.0140 - accuracy: 0.9958 - val_loss: 0.1164 - val_accuracy: 0.9815\n",
      "Epoch 14/15\n",
      "1875/1875 [==============================] - 13s 7ms/step - loss: 0.0125 - accuracy: 0.9963 - val_loss: 0.1400 - val_accuracy: 0.9789\n",
      "Epoch 15/15\n",
      "1875/1875 [==============================] - 13s 7ms/step - loss: 0.0195 - accuracy: 0.9954 - val_loss: 0.1463 - val_accuracy: 0.9780\n"
     ]
    }
   ],
   "source": [
    "# train the model\n",
    "history = model.fit(x_train,y_train,epochs=15,validation_data=(x_test,y_test))"
   ]
  },
  {
   "cell_type": "code",
   "execution_count": 16,
   "id": "04535189",
   "metadata": {},
   "outputs": [
    {
     "data": {
      "text/plain": [
       "[<matplotlib.lines.Line2D at 0x24389a3c400>]"
      ]
     },
     "execution_count": 16,
     "metadata": {},
     "output_type": "execute_result"
    },
    {
     "data": {
      "image/png": "[encoded data removed]",
      "text/plain": [
       "<Figure size 432x288 with 1 Axes>"
      ]
     },
     "metadata": {
      "needs_background": "light"
     },
     "output_type": "display_data"
    }
   ],
   "source": [
    "# Plotting accuracy of the model\n",
    "\n",
    "plt.plot(history.history['accuracy'])"
   ]
  },
  {
   "cell_type": "code",
   "execution_count": 17,
   "id": "8174871b",
   "metadata": {},
   "outputs": [
    {
     "name": "stdout",
     "output_type": "stream",
     "text": [
      "313/313 [==============================] - 1s 4ms/step - loss: 0.1463 - accuracy: 0.9780\n"
     ]
    }
   ],
   "source": [
    "# Evaluating the model\n",
    "\n",
    "score = model.evaluate(x_test,y_test)"
   ]
  },
  {
   "cell_type": "markdown",
   "id": "5dd14f59",
   "metadata": {},
   "source": [
    "Fully connected neural networks typically don't work well on images. This is because each pixel is an input, then as we add morelayers the amount of parameters increases exponentially. 32* 32 That's a 32 high and 32 wide and with three color channels. A single fully connected neurom in the first layer of neural network  is 32 x 32 x 3 = 3072 weights. \n",
    "\n",
    "similarly for 120*120*3 = 120,000 weights\n",
    "\n",
    "The other challenge is that the number of parameters this large can quickly lead to over-fitting.\n",
    "\n",
    "The solution is CNN - The convolution is a mathematical operation used to extract features from an image. The convolution is defined by an image kernel. The image kernel is small matrix. Most of the time , a 3x3 kernel matrix is used . Image -> kernel -> convolved feature. \n",
    "\n",
    "Padding\n",
    "Pooling\n",
    "\n",
    "If a n*n matrix convolved with an f*f matrix with padding p then the size of the output image will be (n+2p-f+1)*(n+2p-f+1)\n",
    "\n",
    "Stride - it is the number of pixels shifts over the input matrix. For padding p ,filter f*f and input image of size n*n and stride s, the output image dimension will be  \n",
    "[(n+2p-f+1)/s+1] * [(n+2p-f+1)/s+1]\n",
    "\n",
    "Pooling  - A pooling layer is another building block of a CNN model. Pooling function is to progressively reduce the spatial size of the representation to reduce the network complexity and computational cost.\n",
    "\n",
    "Max Pooling  - it is simply a rule to take the maximum of a region and it helps to proceed with the most important features from the image. Max pooling selects the brighter pixels form the image. It is useful when the background of the image is dark and we are interested in only the lighter pixels of the image\n",
    "\n",
    "Average Pooling - It will consider the average of the region. Avg pooling blends all the values of a given region. \n",
    "\n",
    "The benefit of CNN is that it reduces the chance of your model over-fitting. "
   ]
  },
  {
   "cell_type": "markdown",
   "id": "f0034be7",
   "metadata": {},
   "source": [
    "In neural network we only had fully connected layer, otherwise known as the dense layer. With CNN we have more operations such as the convolution operation max pooling, flattening and also a fully connected or dense layer."
   ]
  },
  {
   "cell_type": "code",
   "execution_count": 19,
   "id": "d0b6abad",
   "metadata": {},
   "outputs": [],
   "source": [
    "# Import the libraries\n",
    "\n",
    "from keras.layers import Conv2D,MaxPool2D, Flatten, Dense\n",
    "from keras.models import Sequential\n",
    "from keras.datasets import mnist\n",
    "from keras.utils.np_utils import to_categorical"
   ]
  },
  {
   "cell_type": "code",
   "execution_count": 20,
   "id": "92d9a524",
   "metadata": {},
   "outputs": [],
   "source": [
    "(x_train,y_train),(x_test,y_test) = mnist.load_data()"
   ]
  },
  {
   "cell_type": "code",
   "execution_count": 22,
   "id": "eb8a2a78",
   "metadata": {},
   "outputs": [
    {
     "name": "stdout",
     "output_type": "stream",
     "text": [
      "(60000, 28, 28)\n",
      "(60000,)\n",
      "(10000, 28, 28)\n",
      "(10000,)\n"
     ]
    }
   ],
   "source": [
    "print(x_train.shape)\n",
    "print(y_train.shape)\n",
    "print(x_test.shape)\n",
    "print(y_test.shape)"
   ]
  },
  {
   "cell_type": "code",
   "execution_count": 24,
   "id": "545a042e",
   "metadata": {},
   "outputs": [],
   "source": [
    "x_train = x_train.reshape(60000,28,28,1)\n",
    "x_test = x_test.reshape(10000,28,28,1)\n",
    "x_train = x_train.astype('float32')\n",
    "x_test = x_test.astype('float32')\n",
    "x_train /= 255.0\n",
    "x_test /= 255.0\n",
    "\n",
    "y_train = to_categorical(y_train,10)\n",
    "y_test = to_categorical(y_test,10)"
   ]
  },
  {
   "cell_type": "code",
   "execution_count": 25,
   "id": "a3585125",
   "metadata": {},
   "outputs": [
    {
     "name": "stdout",
     "output_type": "stream",
     "text": [
      "(60000, 28, 28, 1)\n",
      "(60000, 10)\n",
      "(10000, 28, 28, 1)\n",
      "(10000, 10)\n"
     ]
    }
   ],
   "source": [
    "print(x_train.shape)\n",
    "print(y_train.shape)\n",
    "print(x_test.shape)\n",
    "print(y_test.shape)"
   ]
  },
  {
   "cell_type": "code",
   "execution_count": 39,
   "id": "bdb41d14",
   "metadata": {},
   "outputs": [
    {
     "name": "stdout",
     "output_type": "stream",
     "text": [
      "Model: \"sequential_6\"\n",
      "_________________________________________________________________\n",
      " Layer (type)                Output Shape              Param #   \n",
      "=================================================================\n",
      " conv2d_8 (Conv2D)           (None, 28, 28, 32)        320       \n",
      "                                                                 \n",
      " conv2d_9 (Conv2D)           (None, 28, 28, 32)        9248      \n",
      "                                                                 \n",
      " max_pooling2d_4 (MaxPooling  (None, 14, 14, 32)       0         \n",
      " 2D)                                                             \n",
      "                                                                 \n",
      " flatten_3 (Flatten)         (None, 6272)              0         \n",
      "                                                                 \n",
      " dense_9 (Dense)             (None, 64)                401472    \n",
      "                                                                 \n",
      " dense_10 (Dense)            (None, 10)                650       \n",
      "                                                                 \n",
      "=================================================================\n",
      "Total params: 411,690\n",
      "Trainable params: 411,690\n",
      "Non-trainable params: 0\n",
      "_________________________________________________________________\n",
      "None\n"
     ]
    }
   ],
   "source": [
    "# CNN Model Development\n",
    "cnn = Sequential()\n",
    "cnn.add(Conv2D(32,kernel_size=(3,3), input_shape=(28,28,1),padding='same',activation='relu'))\n",
    "\n",
    "cnn.add(Conv2D(32,kernel_size=(3,3),padding='same',activation='relu'))\n",
    "cnn.add(MaxPool2D())\n",
    "cnn.add(Flatten())\n",
    "cnn.add(Dense(64,activation='relu'))\n",
    "cnn.add(Dense(10,activation='softmax'))\n",
    "cnn.compile(optimizer='adam',loss = 'categorical_crossentropy', metrics = ['accuracy'])\n",
    "print(cnn.summary())"
   ]
  },
  {
   "cell_type": "code",
   "execution_count": 41,
   "id": "1b56fc95",
   "metadata": {
    "scrolled": true
   },
   "outputs": [
    {
     "name": "stdout",
     "output_type": "stream",
     "text": [
      "Epoch 1/10\n",
      "1875/1875 [==============================] - 166s 89ms/step - loss: 0.0538 - accuracy: 0.9835 - val_loss: 0.0325 - val_accuracy: 0.9893\n",
      "Epoch 2/10\n",
      "1875/1875 [==============================] - 45s 24ms/step - loss: 0.0330 - accuracy: 0.9894 - val_loss: 0.0201 - val_accuracy: 0.9937\n",
      "Epoch 3/10\n",
      "1875/1875 [==============================] - 41s 22ms/step - loss: 0.0228 - accuracy: 0.9925 - val_loss: 0.0109 - val_accuracy: 0.9968\n",
      "Epoch 4/10\n",
      "1875/1875 [==============================] - 41s 22ms/step - loss: 0.0170 - accuracy: 0.9946 - val_loss: 0.0117 - val_accuracy: 0.9962\n",
      "Epoch 5/10\n",
      "1875/1875 [==============================] - 40s 21ms/step - loss: 0.0123 - accuracy: 0.9960 - val_loss: 0.0060 - val_accuracy: 0.9979\n",
      "Epoch 6/10\n",
      "1875/1875 [==============================] - 48s 25ms/step - loss: 0.0108 - accuracy: 0.9964 - val_loss: 0.0116 - val_accuracy: 0.9960\n",
      "Epoch 7/10\n",
      "1875/1875 [==============================] - 46s 24ms/step - loss: 0.0086 - accuracy: 0.9970 - val_loss: 0.0046 - val_accuracy: 0.9987\n",
      "Epoch 8/10\n",
      "1875/1875 [==============================] - 45s 24ms/step - loss: 0.0069 - accuracy: 0.9978 - val_loss: 0.0080 - val_accuracy: 0.9971\n",
      "Epoch 9/10\n",
      "1875/1875 [==============================] - 44s 23ms/step - loss: 0.0056 - accuracy: 0.9980 - val_loss: 0.0073 - val_accuracy: 0.9974\n",
      "Epoch 10/10\n",
      "1875/1875 [==============================] - 41s 22ms/step - loss: 0.0053 - accuracy: 0.9985 - val_loss: 0.0035 - val_accuracy: 0.9987\n"
     ]
    }
   ],
   "source": [
    "history = cnn.fit(x_train,y_train,epochs = 10, verbose = 1, validation_data=(x_train,y_train))"
   ]
  },
  {
   "cell_type": "markdown",
   "id": "1542fa18",
   "metadata": {},
   "source": [
    "## Image recognition using  CNN "
   ]
  },
  {
   "cell_type": "markdown",
   "id": "cd6e1cd7",
   "metadata": {},
   "source": [
    "In this project we will be using CIFAR-10 dataset. This dataset includes thousands of pictures of 10  different kinds of objects"
   ]
  },
  {
   "cell_type": "code",
   "execution_count": 39,
   "id": "1a72f4f0",
   "metadata": {},
   "outputs": [],
   "source": [
    "# In this project we will be using CIFAR-10 dataset. This dataset includes thousands of pictures of 10 different kinds of \n",
    "# objects like airplanes, automobiles, birds and so on. Each image in the dataset includes a matching label so we know\n",
    "# what kind of image it is. The images in the CIFAR-10 dataset are only 32x32 pixels. These are very low resolution images.\n",
    "\n",
    "import keras\n",
    "from keras.datasets import cifar10\n",
    "from keras.models import Sequential\n",
    "from keras.layers import Dense, Dropout,Flatten, Conv2D, MaxPooling2D\n",
    "from pathlib import Path\n",
    "from keras.utils.np_utils import to_categorical"
   ]
  },
  {
   "cell_type": "code",
   "execution_count": 48,
   "id": "65dff7fb",
   "metadata": {},
   "outputs": [],
   "source": [
    "import matplotlib.pyplot as plt"
   ]
  },
  {
   "cell_type": "code",
   "execution_count": 81,
   "id": "b8985671",
   "metadata": {},
   "outputs": [],
   "source": [
    "# Load the dataset\n",
    "\n",
    "(X_train,y_train),(X_test, y_test)= cifar10.load_data()"
   ]
  },
  {
   "cell_type": "code",
   "execution_count": 82,
   "id": "aa4ba920",
   "metadata": {},
   "outputs": [],
   "source": [
    "# Normalize the data\n",
    "\n",
    "X_train= X_train.astype('float32')\n",
    "X_test=X_test.astype('float32')\n",
    "X_train /=255.0\n",
    "X_test /=255.0"
   ]
  },
  {
   "cell_type": "code",
   "execution_count": 83,
   "id": "b2a8b6e3",
   "metadata": {},
   "outputs": [],
   "source": [
    "# Convert class vectors to binary class matrices\n",
    "\n",
    "y_train= to_categorical(y_train,10)\n",
    "y_test= to_categorical(y_test,10)"
   ]
  },
  {
   "cell_type": "code",
   "execution_count": 84,
   "id": "e3e4916f",
   "metadata": {},
   "outputs": [
    {
     "name": "stdout",
     "output_type": "stream",
     "text": [
      "Model: \"sequential_12\"\n",
      "_________________________________________________________________\n",
      " Layer (type)                Output Shape              Param #   \n",
      "=================================================================\n",
      " conv2d_42 (Conv2D)          (None, 32, 32, 32)        896       \n",
      "                                                                 \n",
      " conv2d_43 (Conv2D)          (None, 30, 30, 32)        9248      \n",
      "                                                                 \n",
      " max_pooling2d_20 (MaxPoolin  (None, 15, 15, 32)       0         \n",
      " g2D)                                                            \n",
      "                                                                 \n",
      " dropout_29 (Dropout)        (None, 15, 15, 32)        0         \n",
      "                                                                 \n",
      " conv2d_44 (Conv2D)          (None, 15, 15, 64)        18496     \n",
      "                                                                 \n",
      " conv2d_45 (Conv2D)          (None, 13, 13, 64)        36928     \n",
      "                                                                 \n",
      " max_pooling2d_21 (MaxPoolin  (None, 6, 6, 64)         0         \n",
      " g2D)                                                            \n",
      "                                                                 \n",
      " dropout_30 (Dropout)        (None, 6, 6, 64)          0         \n",
      "                                                                 \n",
      " flatten_10 (Flatten)        (None, 2304)              0         \n",
      "                                                                 \n",
      " dense_18 (Dense)            (None, 512)               1180160   \n",
      "                                                                 \n",
      " dropout_31 (Dropout)        (None, 512)               0         \n",
      "                                                                 \n",
      " dense_19 (Dense)            (None, 10)                5130      \n",
      "                                                                 \n",
      "=================================================================\n",
      "Total params: 1,250,858\n",
      "Trainable params: 1,250,858\n",
      "Non-trainable params: 0\n",
      "_________________________________________________________________\n"
     ]
    }
   ],
   "source": [
    "# Create model and add layers\n",
    "\n",
    "# Dropout- The idea is that between certain layers, we will randomly throw away some of the data ny cutting some of the\n",
    "# connections between the layers. This is called as dropuout. Usually, we will add dropuout right after max pooling layers\n",
    "# or after a group of dense layers.\n",
    "\n",
    "model=Sequential()\n",
    "model.add(Conv2D(32,(3,3), padding='same', input_shape=(32,32,3), activation='relu'))\n",
    "model.add(Conv2D(32,(3,3), activation='relu'))\n",
    "model.add(MaxPooling2D(pool_size=(2,2)))\n",
    "model.add(Dropout(0.25))\n",
    "\n",
    "model.add(Conv2D(64,(3,3), padding='same', activation='relu'))\n",
    "model.add(Conv2D(64,(3,3),activation='relu'))\n",
    "model.add(MaxPooling2D(pool_size=(2,2)))\n",
    "model.add(Dropout(0.25))\n",
    "\n",
    "model.add(Flatten())\n",
    "model.add(Dense(512, activation='relu'))\n",
    "model.add(Dropout(0.5))\n",
    "model.add(Dense(10, activation='softmax'))\n",
    "\n",
    "# Compile the model\n",
    "\n",
    "model.compile(\n",
    "    loss='categorical_crossentropy',\n",
    "    optimizer='adam',\n",
    "    metrics=['accuracy']\n",
    "    )\n",
    "\n",
    "#Print the summary fo the model\n",
    "\n",
    "model.summary()"
   ]
  },
  {
   "cell_type": "code",
   "execution_count": 85,
   "id": "1a08bf68",
   "metadata": {},
   "outputs": [
    {
     "name": "stdout",
     "output_type": "stream",
     "text": [
      "Epoch 1/30\n",
      "1563/1563 [==============================] - 76s 48ms/step - loss: 1.5076 - accuracy: 0.4482 - val_loss: 1.2062 - val_accuracy: 0.5636\n",
      "Epoch 2/30\n",
      "1563/1563 [==============================] - 75s 48ms/step - loss: 1.1427 - accuracy: 0.5950 - val_loss: 0.9624 - val_accuracy: 0.6599\n",
      "Epoch 3/30\n",
      "1563/1563 [==============================] - 80s 51ms/step - loss: 0.9985 - accuracy: 0.6485 - val_loss: 0.8567 - val_accuracy: 0.7015\n",
      "Epoch 4/30\n",
      "1563/1563 [==============================] - 75s 48ms/step - loss: 0.9009 - accuracy: 0.6853 - val_loss: 0.8288 - val_accuracy: 0.7167\n",
      "Epoch 5/30\n",
      "1563/1563 [==============================] - 76s 49ms/step - loss: 0.8420 - accuracy: 0.7040 - val_loss: 0.7788 - val_accuracy: 0.7323\n",
      "Epoch 6/30\n",
      "1563/1563 [==============================] - 75s 48ms/step - loss: 0.7951 - accuracy: 0.7229 - val_loss: 0.7926 - val_accuracy: 0.7302\n",
      "Epoch 7/30\n",
      "1563/1563 [==============================] - 75s 48ms/step - loss: 0.7549 - accuracy: 0.7343 - val_loss: 0.7623 - val_accuracy: 0.7376\n",
      "Epoch 8/30\n",
      "1563/1563 [==============================] - 78s 50ms/step - loss: 0.7204 - accuracy: 0.7461 - val_loss: 0.7304 - val_accuracy: 0.7482\n",
      "Epoch 9/30\n",
      "1563/1563 [==============================] - 84s 54ms/step - loss: 0.6993 - accuracy: 0.7527 - val_loss: 0.7030 - val_accuracy: 0.7585\n",
      "Epoch 10/30\n",
      "1563/1563 [==============================] - 79s 50ms/step - loss: 0.6736 - accuracy: 0.7616 - val_loss: 0.6958 - val_accuracy: 0.7659\n",
      "Epoch 11/30\n",
      "1563/1563 [==============================] - 77s 50ms/step - loss: 0.6560 - accuracy: 0.7715 - val_loss: 0.8386 - val_accuracy: 0.7091\n",
      "Epoch 12/30\n",
      "1563/1563 [==============================] - 75s 48ms/step - loss: 0.6381 - accuracy: 0.7751 - val_loss: 0.7258 - val_accuracy: 0.7581\n",
      "Epoch 13/30\n",
      "1563/1563 [==============================] - 77s 49ms/step - loss: 0.6240 - accuracy: 0.7813 - val_loss: 0.6560 - val_accuracy: 0.7771\n",
      "Epoch 14/30\n",
      "1563/1563 [==============================] - 80s 51ms/step - loss: 0.6103 - accuracy: 0.7865 - val_loss: 0.7107 - val_accuracy: 0.7589\n",
      "Epoch 15/30\n",
      "1563/1563 [==============================] - 87s 56ms/step - loss: 0.5903 - accuracy: 0.7911 - val_loss: 0.6484 - val_accuracy: 0.7804\n",
      "Epoch 16/30\n",
      "1563/1563 [==============================] - 83s 53ms/step - loss: 0.5761 - accuracy: 0.7975 - val_loss: 0.6641 - val_accuracy: 0.7764\n",
      "Epoch 17/30\n",
      "1563/1563 [==============================] - 81s 52ms/step - loss: 0.5709 - accuracy: 0.7984 - val_loss: 0.6927 - val_accuracy: 0.7696\n",
      "Epoch 18/30\n",
      "1563/1563 [==============================] - 80s 51ms/step - loss: 0.5560 - accuracy: 0.8046 - val_loss: 0.6593 - val_accuracy: 0.7799\n",
      "Epoch 19/30\n",
      "1563/1563 [==============================] - 78s 50ms/step - loss: 0.5483 - accuracy: 0.8072 - val_loss: 0.6481 - val_accuracy: 0.7820\n",
      "Epoch 20/30\n",
      "1563/1563 [==============================] - 85s 54ms/step - loss: 0.5420 - accuracy: 0.8104 - val_loss: 0.6537 - val_accuracy: 0.7824\n",
      "Epoch 21/30\n",
      "1563/1563 [==============================] - 76s 49ms/step - loss: 0.5213 - accuracy: 0.8166 - val_loss: 0.6913 - val_accuracy: 0.7656\n",
      "Epoch 22/30\n",
      "1563/1563 [==============================] - 73s 47ms/step - loss: 0.5255 - accuracy: 0.8149 - val_loss: 0.6450 - val_accuracy: 0.7857\n",
      "Epoch 23/30\n",
      "1563/1563 [==============================] - 84s 54ms/step - loss: 0.5169 - accuracy: 0.8183 - val_loss: 0.6635 - val_accuracy: 0.7836\n",
      "Epoch 24/30\n",
      "1563/1563 [==============================] - 77s 49ms/step - loss: 0.5135 - accuracy: 0.8219 - val_loss: 0.6510 - val_accuracy: 0.7851\n",
      "Epoch 25/30\n",
      "1563/1563 [==============================] - 73s 47ms/step - loss: 0.5033 - accuracy: 0.8238 - val_loss: 0.6332 - val_accuracy: 0.7932\n",
      "Epoch 26/30\n",
      "1563/1563 [==============================] - 74s 47ms/step - loss: 0.4940 - accuracy: 0.8279 - val_loss: 0.6797 - val_accuracy: 0.7833\n",
      "Epoch 27/30\n",
      "1563/1563 [==============================] - 74s 48ms/step - loss: 0.4928 - accuracy: 0.8264 - val_loss: 0.7105 - val_accuracy: 0.7788\n",
      "Epoch 28/30\n",
      "1563/1563 [==============================] - 74s 47ms/step - loss: 0.4821 - accuracy: 0.8318 - val_loss: 0.7160 - val_accuracy: 0.7723\n",
      "Epoch 29/30\n",
      "1563/1563 [==============================] - 74s 47ms/step - loss: 0.4837 - accuracy: 0.8329 - val_loss: 0.6671 - val_accuracy: 0.7790\n",
      "Epoch 30/30\n",
      "1563/1563 [==============================] - 74s 47ms/step - loss: 0.4718 - accuracy: 0.8343 - val_loss: 0.6832 - val_accuracy: 0.7812\n"
     ]
    },
    {
     "data": {
      "text/plain": [
       "<keras.callbacks.History at 0x1fe97a29340>"
      ]
     },
     "execution_count": 85,
     "metadata": {},
     "output_type": "execute_result"
    }
   ],
   "source": [
    "# Train the model\n",
    "\n",
    "model.fit(\n",
    "    X_train,\n",
    "    y_train,\n",
    "    batch_size=32,\n",
    "    epochs=30,\n",
    "    validation_data=(X_test,y_test),\n",
    "    shuffle=True\n",
    ")"
   ]
  },
  {
   "cell_type": "code",
   "execution_count": 86,
   "id": "856805bd",
   "metadata": {},
   "outputs": [
    {
     "data": {
      "text/plain": [
       "4411"
      ]
     },
     "execution_count": 86,
     "metadata": {},
     "output_type": "execute_result"
    }
   ],
   "source": [
    "# Save the neural network structure\n",
    "model_structure = model.to_json()\n",
    "f = Path(\"model_structure.json\")\n",
    "f.write_text(model_structure)"
   ]
  },
  {
   "cell_type": "code",
   "execution_count": 87,
   "id": "086fd19e",
   "metadata": {},
   "outputs": [],
   "source": [
    "# save the trained neural network weights\n",
    "    \n",
    "model.save_weights(\"model_weights.h5\")"
   ]
  },
  {
   "cell_type": "code",
   "execution_count": 88,
   "id": "38822c96",
   "metadata": {},
   "outputs": [],
   "source": [
    "# Making predictions \n",
    "from  keras.models import model_from_json\n",
    "from pathlib import Path\n",
    "from keras.preprocessing import image\n",
    "import numpy as np"
   ]
  },
  {
   "cell_type": "code",
   "execution_count": 89,
   "id": "8ac145f6",
   "metadata": {},
   "outputs": [],
   "source": [
    "# CIFAR-10 dataset class labels\n",
    "\n",
    "class_labels = ['Planes','Car','Bird','Cat','Deer','Dog','Frog','Horse','Boat','Truck']"
   ]
  },
  {
   "cell_type": "code",
   "execution_count": 90,
   "id": "512444f2",
   "metadata": {},
   "outputs": [],
   "source": [
    "# Load the json file that contains the model structure\n",
    "\n",
    "f = Path(\"model_structure.json\")\n",
    "model_structure = f.read_text()"
   ]
  },
  {
   "cell_type": "code",
   "execution_count": 91,
   "id": "3045bf96",
   "metadata": {},
   "outputs": [],
   "source": [
    "# Recreate the Keras model object from the json data\n",
    "model = model_from_json(model_structure)"
   ]
  },
  {
   "cell_type": "code",
   "execution_count": 92,
   "id": "cb586737",
   "metadata": {},
   "outputs": [],
   "source": [
    "# Reload the model trained weights\n",
    "model.load_weights('model_weights.h5')"
   ]
  },
  {
   "cell_type": "code",
   "execution_count": 93,
   "id": "1a04dbd8",
   "metadata": {},
   "outputs": [],
   "source": [
    "# Load an image file to test\n",
    "img= image.load_img('frog.png',target_size = (32,32))"
   ]
  },
  {
   "cell_type": "code",
   "execution_count": 94,
   "id": "d4a2569f",
   "metadata": {},
   "outputs": [],
   "source": [
    "# Convert the image to a numpy array\n",
    "\n",
    "image_to_test = image.img_to_array(img)"
   ]
  },
  {
   "cell_type": "code",
   "execution_count": 95,
   "id": "375d5f67",
   "metadata": {},
   "outputs": [],
   "source": [
    "# add a fourth dimension, since keras expects a list of images, not a single image\n",
    "list_of_images = np.expand_dims(image_to_test,axis = 0)"
   ]
  },
  {
   "cell_type": "code",
   "execution_count": 96,
   "id": "f9383be6",
   "metadata": {},
   "outputs": [],
   "source": [
    "# Make prediction using the model\n",
    "\n",
    "results = model.predict(list_of_images)"
   ]
  },
  {
   "cell_type": "code",
   "execution_count": 97,
   "id": "f17c9876",
   "metadata": {},
   "outputs": [],
   "source": [
    "# Since we are only testin one image, we only need to check the first result\n",
    "\n",
    "single_result = results[0]"
   ]
  },
  {
   "cell_type": "code",
   "execution_count": 98,
   "id": "14347946",
   "metadata": {},
   "outputs": [],
   "source": [
    "# We will get a likelihood score for all 10 possible classes. Find out which class has the highest\n",
    "# score\n",
    "most_likely_class_index = int(np.argmax(single_result))\n",
    "class_likelihood = single_result[most_likely_class_index]"
   ]
  },
  {
   "cell_type": "code",
   "execution_count": 99,
   "id": "7ee99d58",
   "metadata": {},
   "outputs": [],
   "source": [
    "# Get the name of the most likely class\n",
    "class_label = class_labels[most_likely_class_index]"
   ]
  },
  {
   "cell_type": "code",
   "execution_count": 100,
   "id": "456a4c4b",
   "metadata": {},
   "outputs": [
    {
     "name": "stdout",
     "output_type": "stream",
     "text": [
      "This is image is a Planes - Likelihood: 1.000000\n"
     ]
    }
   ],
   "source": [
    "# Printing the result\n",
    "print('This is image is a {} - Likelihood: {:2f}'.format(class_label, class_likelihood))"
   ]
  },
  {
   "cell_type": "markdown",
   "id": "3687b98e",
   "metadata": {},
   "source": [
    "###    Pretrained VGG16 neural network model for object detection"
   ]
  },
  {
   "cell_type": "markdown",
   "id": "17df89d4",
   "metadata": {},
   "source": [
    "Sometimes instead of using own NN designs fro scratch, it makes sense to reuse an existing neural network design as a starting point for projects. These pre_trained models are trained on large data sets. So, we can use those pretrained models and either use them directly or use them as a starting point for our own training ."
   ]
  },
  {
   "cell_type": "markdown",
   "id": "12199e0b",
   "metadata": {},
   "source": [
    "image recognition models included in keras are all trained to recognise images from the imageNet dataset\n",
    "\n",
    "ImageNet dataset is a collection of millions of pictures of objects that have been labelled so that you can use them to train computers to recognise those objects."
   ]
  },
  {
   "cell_type": "markdown",
   "id": "cf06d5ea",
   "metadata": {},
   "source": [
    "Lets talk about the NN designs included with Keras that we can use\n",
    "\n",
    "VGG - VGG is a deep NN with either 16 or 19 layers. Its a very standard CNN design. Its still widely used as a basis for other models because its easy to work with and easy to understand.\n",
    "\n",
    "ResNet-50 - it was devleped in 2015. It is a 50 layer neural network that manages to be more accurate and uses less memory than VGG. \n",
    "\n",
    "Inception V3 is another design fro 2015 that also performs very well. "
   ]
  },
  {
   "cell_type": "code",
   "execution_count": 101,
   "id": "28f7b3e8",
   "metadata": {},
   "outputs": [],
   "source": [
    "import numpy as np\n",
    "from keras.preprocessing import image\n",
    "from keras.applications import vgg16"
   ]
  },
  {
   "cell_type": "code",
   "execution_count": 102,
   "id": "52657010",
   "metadata": {},
   "outputs": [
    {
     "name": "stdout",
     "output_type": "stream",
     "text": [
      "Downloading data from https://storage.googleapis.com/tensorflow/keras-applications/vgg16/vgg16_weights_tf_dim_ordering_tf_kernels.h5\n",
      "553467904/553467096 [==============================] - 74s 0us/step\n",
      "553476096/553467096 [==============================] - 74s 0us/step\n"
     ]
    }
   ],
   "source": [
    "# load keras vgg16 model that was pretrained against the imageNet database\n",
    "\n",
    "model = vgg16.VGG16()"
   ]
  },
  {
   "cell_type": "code",
   "execution_count": 104,
   "id": "4dc1f57f",
   "metadata": {},
   "outputs": [],
   "source": [
    "img = image.load_img(\"bay.jpeg\",target_size=(224,224))   "
   ]
  },
  {
   "cell_type": "code",
   "execution_count": 105,
   "id": "2f444107",
   "metadata": {},
   "outputs": [],
   "source": [
    "# Conver the image to numpy array\n",
    "x = image.img_to_array(img)"
   ]
  },
  {
   "cell_type": "code",
   "execution_count": 106,
   "id": "fc100178",
   "metadata": {},
   "outputs": [],
   "source": [
    "# Add a fourth dimension since keras expects a list of images\n",
    "\n",
    "x = np.expand_dims(x,axis = 0)"
   ]
  },
  {
   "cell_type": "code",
   "execution_count": 107,
   "id": "7bde09bc",
   "metadata": {},
   "outputs": [],
   "source": [
    "# Normalise the input imags pixel values to the range used when training the model\n",
    "x = vgg16.preprocess_input(x)\n"
   ]
  },
  {
   "cell_type": "code",
   "execution_count": 108,
   "id": "664bd6a0",
   "metadata": {},
   "outputs": [],
   "source": [
    "# Run the impage throught the  deep NN to make a prediction\n",
    "\n",
    "predictions = model.predict(x)"
   ]
  },
  {
   "cell_type": "code",
   "execution_count": 109,
   "id": "8f7df231",
   "metadata": {},
   "outputs": [
    {
     "name": "stdout",
     "output_type": "stream",
     "text": [
      "Downloading data from https://storage.googleapis.com/download.tensorflow.org/data/imagenet_class_index.json\n",
      "40960/35363 [==================================] - 0s 1us/step\n",
      "49152/35363 [=========================================] - 0s 1us/step\n"
     ]
    }
   ],
   "source": [
    "# Look up the names of the predicted classes. Index zero is the results for the first image\n",
    "predicted_classes = vgg16.decode_predictions(predictions)"
   ]
  },
  {
   "cell_type": "code",
   "execution_count": 110,
   "id": "308d4589",
   "metadata": {},
   "outputs": [
    {
     "name": "stdout",
     "output_type": "stream",
     "text": [
      "Top Predictions for this image:\n",
      "prediction: seashore - 0.395213\n",
      "prediction: promontory - 0.326128\n",
      "prediction: lakeside - 0.119613\n",
      "prediction: breakwater - 0.062801\n",
      "prediction: sandbar - 0.045267\n"
     ]
    }
   ],
   "source": [
    "print(\"Top Predictions for this image:\")\n",
    "for imagenet_id,name,likelihood in predicted_classes[0]:\n",
    "    print(\"prediction: {} - {:2f}\".format(name,likelihood))"
   ]
  },
  {
   "cell_type": "markdown",
   "id": "bc0dc766",
   "metadata": {},
   "source": [
    "Transfer Learning as an alternative to training a neural network.\n",
    "\n",
    "It is where you take a model trained on one set of data and then use the knowledge it learned to give it a headstart when solving a new problem.\n",
    "\n",
    "Transfer learning is also very useful when you only have a small training dataset. If you only have a few hundred training images for your image recognition system, you don't have enough data to teach your model from skratch, so it makes sense to start with a model trained for something else and adapt it to your problem."
   ]
  },
  {
   "cell_type": "code",
   "execution_count": 111,
   "id": "9433a2fc",
   "metadata": {},
   "outputs": [],
   "source": [
    "import sys"
   ]
  },
  {
   "cell_type": "code",
   "execution_count": 112,
   "id": "6d37212d",
   "metadata": {},
   "outputs": [
    {
     "data": {
      "text/plain": [
       "'3.9.7 (default, Sep 16 2021, 16:59:28) [MSC v.1916 64 bit (AMD64)]'"
      ]
     },
     "execution_count": 112,
     "metadata": {},
     "output_type": "execute_result"
    }
   ],
   "source": [
    "sys.version"
   ]
  },
  {
   "cell_type": "code",
   "execution_count": 113,
   "id": "ece0f1ee",
   "metadata": {},
   "outputs": [
    {
     "name": "stdout",
     "output_type": "stream",
     "text": [
      "noice\n"
     ]
    }
   ],
   "source": [
    "print(\"noice\")"
   ]
  },
  {
   "cell_type": "code",
   "execution_count": null,
   "id": "6e4449e9",
   "metadata": {},
   "outputs": [],
   "source": []
  }
 ],
 "metadata": {
  "kernelspec": {
   "display_name": "Python 3 (ipykernel)",
   "language": "python",
   "name": "python3"
  },
  "language_info": {
   "codemirror_mode": {
    "name": "ipython",
    "version": 3
   },
   "file_extension": ".py",
   "mimetype": "text/x-python",
   "name": "python",
   "nbconvert_exporter": "python",
   "pygments_lexer": "ipython3",
   "version": "3.9.7"
  }
 },
 "nbformat": 4,
 "nbformat_minor": 5
}
