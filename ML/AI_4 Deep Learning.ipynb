{
 "cells": [
  {
   "cell_type": "markdown",
   "id": "0c601365",
   "metadata": {},
   "source": [
    "# Deep Learning"
   ]
  },
  {
   "cell_type": "markdown",
   "id": "3f512483",
   "metadata": {},
   "source": [
    "Deep learning is a field within machine learning that deals with building and using neural network models.\n",
    "\n",
    "Neural network mimic the functioning of a human brain. NR with more than 3 layers are typically categorised as Deep Learning networks\n",
    "\n",
    "Deep Learning has been extremely popular in NLP because the neural network architectures are ideal for dealing with unstructured data. For the same reason, they are also popular for speech recognition.\n",
    "\n",
    "Image recognition is another domain where Deep Learning models are deployed. Self-driving cars..\n",
    "\n",
    "The applications of DL is popular in domains like customer experiance, health care and robotics"
   ]
  },
  {
   "cell_type": "markdown",
   "id": "2ef2003d",
   "metadata": {},
   "source": [
    "The concept of Linear Regression forms a key foundation for Deep Learning projects\n",
    "\n",
    "Linear Regression is a linear model that explains relationship between 2 or more variables. It is usually used to predict continuous variables. \n",
    "\n",
    "A related technique that is most used in Deep Learning is Logistic regression. It is a binary model that defines relationship between two variables.\n",
    "\n",
    "    Here the diff is that the LogR converts the LinR using sigmoid function"
   ]
  },
  {
   "cell_type": "markdown",
   "id": "6dd7f4b9",
   "metadata": {},
   "source": [
    "## Perceptron"
   ]
  },
  {
   "cell_type": "markdown",
   "id": "80beeb82",
   "metadata": {},
   "source": [
    "The preceptron is the unit for learning in an AI neural network. A perceptron represents the algorithm for supervised learning\n",
    "in an ANN. It resembles a human brain cell.  Multiple inputs are fed into perceptron which in turn does computations and outputs a boolean variable. It represents a single cell or node in a neural network. It is built based on logistic regression \n",
    "\n",
    "In DL we replace with weight and intercept with the bias called b. Weights and biases become the parameters for a NN. We then apply an acivation function f that outputs a boolean result based on the values.\n",
    "\n",
    "The number of weights = the number of inputs"
   ]
  },
  {
   "cell_type": "markdown",
   "id": "1f10cb9f",
   "metadata": {},
   "source": [
    "A ANN is a network of perceptrons. A deep neural network usually has 3 or more layers and each node had its own weights, biases and activation function. Each node is connected to all the nodes in the next layer forming a dense network. The number of layers(hidden layers) and the number of nodes in each layer are determined by experience and trials and it changes from case to case.\n",
    "\n",
    "The inputs or independent variables are send from the input layer of the network. Data may be pre-processed before using them. Each node is a perceptron containing weights, bias and activation function. The formula is applied on the inputs and the outputs derived. As the process reaches the output layer the final predictions will be derived"
   ]
  },
  {
   "cell_type": "markdown",
   "id": "cb68ce27",
   "metadata": {},
   "source": [
    "An ANN is created through a model training process. A NN is represented by a set of parameters and hyperparameters. Training an ANN means determining the right values for these parameters and hyperparameters such that it maximises the accuracy of predictions for the given use case.\n",
    "\n",
    "We use training data like regular ML where we know both the dependent and independent variables. We start the network architecture by intuition . We also initialise weights and biases through random values. Then we repeat the iterations of applying weights and biases to the inputs and computing the error. Based on the error found we will adjust the weights and biases to reduce the error. We keep repeating the proces of adjusting weights and biases till the error gets to an acceptable value. We will also find tune the network hyperparameters to improve training speed and reduce iterations. Finally, we will save  the model as represented by its parameters and hyperparameters and then use it for predictions."
   ]
  },
  {
   "cell_type": "markdown",
   "id": "9f8fb9da",
   "metadata": {},
   "source": [
    "## Neural Network acrhitecture"
   ]
  },
  {
   "cell_type": "markdown",
   "id": "06d2b694",
   "metadata": {},
   "source": [
    "#### Input layer"
   ]
  },
  {
   "cell_type": "markdown",
   "id": "32f8bc8c",
   "metadata": {},
   "source": [
    "A vector is an ordered list of numeric values. The input to deep learning model is usually a vector of numeric values. Vectors are usually defined using numpy arrays. It represents the filter variables or independent variables that are used for predictions as well as training. There are a number of advanced pre-processing techniques that are applied to data to prepare them for DL. \n",
    "\n",
    "Once the input data is ready it can be passed to the deep learning model for learning. "
   ]
  },
  {
   "cell_type": "markdown",
   "id": "79778779",
   "metadata": {},
   "source": [
    "#### Hidden Layer"
   ]
  },
  {
   "cell_type": "markdown",
   "id": "a68b15df",
   "metadata": {},
   "source": [
    "An ANN can have one or more hidden  layers. The more the number of layers the deeper the network is. Each hidden layer can have one or more nodes. Typically, the node count is confugured in the range of 2 power n. EG: count maybe 8,16,32,64,128,etc. The neural network architecture is defined by number of layers and nodes in that layer. The output of each node in previous layer will become the input for every node in the current layer. Similarly, the output of each node in the current layer is passed to every node in the next layer. \n",
    "When there are more nodes and layers it usually results in better accuracy. As a general practice, start with small number and keep adding until acceptable accuracy levels are obtained."
   ]
  },
  {
   "cell_type": "markdown",
   "id": "be4db959",
   "metadata": {},
   "source": [
    "#### Weights and Biases"
   ]
  },
  {
   "cell_type": "markdown",
   "id": "04ea1812",
   "metadata": {},
   "source": [
    "These form the foundation for DL algorithms. Weights and biases are the trainable parameters in a NN model. During a training process the values for these weights and biases are determined such that they provide accurate predictions. Weight and biases are nothing but a collection of numeric values. Each input for each node will have an associated weight with it. "
   ]
  },
  {
   "cell_type": "markdown",
   "id": "20b12cef",
   "metadata": {},
   "source": [
    "#### Activation functions"
   ]
  },
  {
   "cell_type": "markdown",
   "id": "9133cb4f",
   "metadata": {},
   "source": [
    "An activation function play an important role in creating the output of the node in the neural network. An activation function takes the matrix output of the node and determines if and how the node will propagate its information to the next layer. Activation functions act as filters to reduce noise and also normalise the output.\n",
    "\n",
    "The main adavantage is that it converts the output into a non-linear value. They serve as a critical step helping a neural network learn specific patterns in the data. \n",
    "\n",
    "TanH-- A TanH function normalizes the output in the range of -1 to +1. \n",
    "\n",
    "ReLu- Rectified Linear Unit---it produces a 0 if the output is negative, else it will reproduce the same input verbatim\n",
    "\n",
    "Softmax activation function is used in case of classification problems. It produces a vector of probabilities for each of the possible classes in the outcome .The sum pf probabilities will be equal to 1. The class with the highest probability will be considered for prediction.\n",
    "\n",
    "These all activation functions are added as hyperparameter to the model"
   ]
  },
  {
   "cell_type": "markdown",
   "id": "bd13c14c",
   "metadata": {},
   "source": [
    "#### Output Layer"
   ]
  },
  {
   "cell_type": "markdown",
   "id": "1918a912",
   "metadata": {},
   "source": [
    "The output layer is the final layer in the NN where desired predictions are obtained.\n",
    "\n",
    "There is one output layer in a NN that produces the desired final prediction. It has its own set of weights and biases that are appplied before the final output is derived. The activation function or the output layer may be different than the hidden layer based on the problem. For example - The Softmax activation function is used to derive the final classes in a classification problem."
   ]
  },
  {
   "cell_type": "markdown",
   "id": "85032ae2",
   "metadata": {},
   "source": [
    "### Training a Neural Netork"
   ]
  },
  {
   "cell_type": "markdown",
   "id": "e1d8cd44",
   "metadata": {},
   "source": [
    "Setup and Initialization:- Applying a number of processing techniques to convert your samples into  numeric vectors. To help with training the input data is usually split into training, test and validation sets. A training data set is used to run through the neural network and fit the parameters like weights and biases. Once a model is created, the , the validation data set is used to check for its accuracy and error rates. The result from this validation is then used to refine a model and recheck. \n",
    "\n",
    "When a final model is obtained, it is used to predict on the test data set to measure the final model performance. The usual plot of input data between the training, validation and test set is 80:10:10. In order to create the initial model a set of values needs to be selected for various parameters and hyper-parameters. This includes the number of layers and the numer of nodes in each layer. We also need to select the activation functions for each layer. Then there are hyperparameters like epochs, batch sizes and error functions that needs to be selected. \n",
    "\n",
    "\n",
    "How do we make the initial selection? It is/maybe based on our own intuition and experience. It can also be based on references in best practices and suitability of techiniques to the specific problem. Whatever, values are selected, they are then redefined as the model is trained, if the final result of the model are not acceptable then we will go back adjust the parameters and then retrain the model. \n",
    "\n",
    "We also need to initialize the weights and biases for each nodes in the neural network. Multiple techniques for initialization are availible.\n",
    "\n",
    "- Zero Initialization - here we initialize all values to zero\n",
    "\n",
    "- The preferred technique is random initialization: here we initialize the weights and biases to random values obtained from a standard normal ditribution whose mean is 0 and standard deviation is 1"
   ]
  },
  {
   "cell_type": "markdown",
   "id": "ccf7cd2c",
   "metadata": {},
   "source": [
    "### Forward Propagation"
   ]
  },
  {
   "cell_type": "markdown",
   "id": "fd45ce96",
   "metadata": {},
   "source": [
    "The input data is organised as samples and features. y is the actual value of the target in the training set, y_hat will be the values that will be predicted through forward propagation.\n",
    "\n",
    "The forward propagation step is exactly the same as doing an actual prediction with the neural network. For each sample, the inputs are send through the designated neural network. For each node, we compute the outputs based on the perceptron formula and pass them to the next layer.\n",
    "\n",
    "The final outcome y_hat is then obtained at the end. As we keep sending the samples to the neural network we will collect values of y_hat for each sample. This process is repeated for all samples in the training dataset. We will then compare the values of y_hat and y and compute the error rates. "
   ]
  },
  {
   "cell_type": "markdown",
   "id": "664f6acb",
   "metadata": {},
   "source": [
    "### Measuring accuracy and error"
   ]
  },
  {
   "cell_type": "markdown",
   "id": "fcd9ac85",
   "metadata": {},
   "source": [
    "It is used to represent the gap between the predicted values and actual values of the target variable. For computing error we use 2 functiona, namely the loss function and the cost function.\n",
    "\n",
    "The loss predicts the error for a single sample while a cost function measures the error across a set of samples. The cost function provides an averaging effect over all the errors found on the trianing dataset. The terms loss function and cost function are used interchangeably. There are a number of popular cost function avalible. \n",
    "\n",
    "- MSE or RMSE - measures error in case of regression problem.\n",
    "\n",
    "- For binary classification we use Binary Cross Entropy to compute the error.  "
   ]
  },
  {
   "cell_type": "markdown",
   "id": "e230d0c0",
   "metadata": {},
   "source": [
    "### Back Propagation"
   ]
  },
  {
   "cell_type": "markdown",
   "id": "6e43a286",
   "metadata": {},
   "source": [
    "Once we have estimated the prediction error from forward propagation, we need to go back to back propagation, to adjust the weights and biases. Back propagation works in the reverse direction as the forward propagation. When the batch size is equal to data size it is called batch gradient descent and when the batch size is less than training data size it is called mini batch gradient descent.\n",
    "\n",
    "A training data is sent through the neural network multiple times during the learning process. The total number of times the entire training data is sent through the neural network is called as epoch.. Higher epoch size may lead to better accuracy but it also delays the learning process.\n",
    "\n",
    "Lets say that we have a training data size 1000. We set the batch size as 128 and epoch count of 50. 1000/128 = 8.... The total iteration of passes through the neural network is a total batches multiplied by total epochs. In this case there will be a total of 400 passes through the neural network. This means the weights and biases are updated 400 times. "
   ]
  },
  {
   "cell_type": "markdown",
   "id": "a4d72716",
   "metadata": {},
   "source": [
    "### Validation and Testing"
   ]
  },
  {
   "cell_type": "markdown",
   "id": "6a4bf656",
   "metadata": {},
   "source": [
    "As we build models we need to also validate and test them against independent datasets to measure out of sample error. The model can be fine-tuned and the learning process repeated based on the results seen against the validation dataset. After all the fine-tuning is completed and the final model is obtained, the test data is used to evaluate the model. This is done only once at the end . The evalutation results are then used to measure the performance of the model in terms of final accuracy and error rates. "
   ]
  },
  {
   "cell_type": "markdown",
   "id": "dccbdce7",
   "metadata": {},
   "source": [
    "## Deep Learning Example - Iris dataset"
   ]
  },
  {
   "cell_type": "code",
   "execution_count": 3,
   "id": "fa27548f",
   "metadata": {},
   "outputs": [
    {
     "name": "stdout",
     "output_type": "stream",
     "text": [
      "Requirement already satisfied: tensorflow in c:\\users\\matth\\anaconda3\\lib\\site-packages (2.8.0)\n",
      "Requirement already satisfied: opt-einsum>=2.3.2 in c:\\users\\matth\\anaconda3\\lib\\site-packages (from tensorflow) (3.3.0)\n",
      "Requirement already satisfied: tensorflow-io-gcs-filesystem>=0.23.1 in c:\\users\\matth\\anaconda3\\lib\\site-packages (from tensorflow) (0.25.0)\n",
      "Requirement already satisfied: typing-extensions>=3.6.6 in c:\\users\\matth\\anaconda3\\lib\\site-packages (from tensorflow) (3.10.0.2)\n",
      "Requirement already satisfied: astunparse>=1.6.0 in c:\\users\\matth\\anaconda3\\lib\\site-packages (from tensorflow) (1.6.3)\n",
      "Requirement already satisfied: tf-estimator-nightly==2.8.0.dev2021122109 in c:\\users\\matth\\anaconda3\\lib\\site-packages (from tensorflow) (2.8.0.dev2021122109)\n",
      "Requirement already satisfied: setuptools in c:\\users\\matth\\anaconda3\\lib\\site-packages (from tensorflow) (58.0.4)\n",
      "Requirement already satisfied: grpcio<2.0,>=1.24.3 in c:\\users\\matth\\anaconda3\\lib\\site-packages (from tensorflow) (1.44.0)\n",
      "Requirement already satisfied: tensorboard<2.9,>=2.8 in c:\\users\\matth\\anaconda3\\lib\\site-packages (from tensorflow) (2.8.0)\n",
      "Requirement already satisfied: google-pasta>=0.1.1 in c:\\users\\matth\\anaconda3\\lib\\site-packages (from tensorflow) (0.2.0)\n",
      "Requirement already satisfied: absl-py>=0.4.0 in c:\\users\\matth\\anaconda3\\lib\\site-packages (from tensorflow) (1.0.0)\n",
      "Requirement already satisfied: h5py>=2.9.0 in c:\\users\\matth\\anaconda3\\lib\\site-packages (from tensorflow) (3.2.1)\n",
      "Requirement already satisfied: six>=1.12.0 in c:\\users\\matth\\anaconda3\\lib\\site-packages (from tensorflow) (1.16.0)\n",
      "Requirement already satisfied: protobuf>=3.9.2 in c:\\users\\matth\\anaconda3\\lib\\site-packages (from tensorflow) (3.20.1)\n",
      "Requirement already satisfied: keras-preprocessing>=1.1.1 in c:\\users\\matth\\anaconda3\\lib\\site-packages (from tensorflow) (1.1.2)\n",
      "Requirement already satisfied: libclang>=9.0.1 in c:\\users\\matth\\anaconda3\\lib\\site-packages (from tensorflow) (14.0.1)\n",
      "Requirement already satisfied: gast>=0.2.1 in c:\\users\\matth\\anaconda3\\lib\\site-packages (from tensorflow) (0.5.3)\n",
      "Requirement already satisfied: numpy>=1.20 in c:\\users\\matth\\anaconda3\\lib\\site-packages (from tensorflow) (1.20.3)\n",
      "Requirement already satisfied: termcolor>=1.1.0 in c:\\users\\matth\\anaconda3\\lib\\site-packages (from tensorflow) (1.1.0)\n",
      "Requirement already satisfied: keras<2.9,>=2.8.0rc0 in c:\\users\\matth\\anaconda3\\lib\\site-packages (from tensorflow) (2.8.0)\n",
      "Requirement already satisfied: flatbuffers>=1.12 in c:\\users\\matth\\anaconda3\\lib\\site-packages (from tensorflow) (2.0)\n",
      "Requirement already satisfied: wrapt>=1.11.0 in c:\\users\\matth\\anaconda3\\lib\\site-packages (from tensorflow) (1.12.1)\n",
      "Requirement already satisfied: wheel<1.0,>=0.23.0 in c:\\users\\matth\\anaconda3\\lib\\site-packages (from astunparse>=1.6.0->tensorflow) (0.37.0)\n",
      "Requirement already satisfied: markdown>=2.6.8 in c:\\users\\matth\\anaconda3\\lib\\site-packages (from tensorboard<2.9,>=2.8->tensorflow) (3.3.6)\n",
      "Requirement already satisfied: requests<3,>=2.21.0 in c:\\users\\matth\\anaconda3\\lib\\site-packages (from tensorboard<2.9,>=2.8->tensorflow) (2.26.0)\n",
      "Requirement already satisfied: tensorboard-plugin-wit>=1.6.0 in c:\\users\\matth\\anaconda3\\lib\\site-packages (from tensorboard<2.9,>=2.8->tensorflow) (1.8.1)\n",
      "Requirement already satisfied: google-auth<3,>=1.6.3 in c:\\users\\matth\\anaconda3\\lib\\site-packages (from tensorboard<2.9,>=2.8->tensorflow) (2.6.6)\n",
      "Requirement already satisfied: google-auth-oauthlib<0.5,>=0.4.1 in c:\\users\\matth\\anaconda3\\lib\\site-packages (from tensorboard<2.9,>=2.8->tensorflow) (0.4.6)\n",
      "Requirement already satisfied: tensorboard-data-server<0.7.0,>=0.6.0 in c:\\users\\matth\\anaconda3\\lib\\site-packages (from tensorboard<2.9,>=2.8->tensorflow) (0.6.1)\n",
      "Requirement already satisfied: werkzeug>=0.11.15 in c:\\users\\matth\\anaconda3\\lib\\site-packages (from tensorboard<2.9,>=2.8->tensorflow) (2.0.2)\n",
      "Requirement already satisfied: rsa<5,>=3.1.4 in c:\\users\\matth\\anaconda3\\lib\\site-packages (from google-auth<3,>=1.6.3->tensorboard<2.9,>=2.8->tensorflow) (4.8)\n",
      "Requirement already satisfied: pyasn1-modules>=0.2.1 in c:\\users\\matth\\anaconda3\\lib\\site-packages (from google-auth<3,>=1.6.3->tensorboard<2.9,>=2.8->tensorflow) (0.2.8)\n",
      "Requirement already satisfied: cachetools<6.0,>=2.0.0 in c:\\users\\matth\\anaconda3\\lib\\site-packages (from google-auth<3,>=1.6.3->tensorboard<2.9,>=2.8->tensorflow) (5.0.0)\n",
      "Requirement already satisfied: requests-oauthlib>=0.7.0 in c:\\users\\matth\\anaconda3\\lib\\site-packages (from google-auth-oauthlib<0.5,>=0.4.1->tensorboard<2.9,>=2.8->tensorflow) (1.3.1)\n",
      "Requirement already satisfied: importlib-metadata>=4.4 in c:\\users\\matth\\anaconda3\\lib\\site-packages (from markdown>=2.6.8->tensorboard<2.9,>=2.8->tensorflow) (4.8.1)\n",
      "Requirement already satisfied: zipp>=0.5 in c:\\users\\matth\\anaconda3\\lib\\site-packages (from importlib-metadata>=4.4->markdown>=2.6.8->tensorboard<2.9,>=2.8->tensorflow) (3.6.0)\n",
      "Requirement already satisfied: pyasn1<0.5.0,>=0.4.6 in c:\\users\\matth\\anaconda3\\lib\\site-packages (from pyasn1-modules>=0.2.1->google-auth<3,>=1.6.3->tensorboard<2.9,>=2.8->tensorflow) (0.4.8)\n",
      "Requirement already satisfied: certifi>=2017.4.17 in c:\\users\\matth\\anaconda3\\lib\\site-packages (from requests<3,>=2.21.0->tensorboard<2.9,>=2.8->tensorflow) (2021.10.8)\n",
      "Requirement already satisfied: idna<4,>=2.5 in c:\\users\\matth\\anaconda3\\lib\\site-packages (from requests<3,>=2.21.0->tensorboard<2.9,>=2.8->tensorflow) (3.2)\n",
      "Requirement already satisfied: urllib3<1.27,>=1.21.1 in c:\\users\\matth\\anaconda3\\lib\\site-packages (from requests<3,>=2.21.0->tensorboard<2.9,>=2.8->tensorflow) (1.26.7)\n",
      "Requirement already satisfied: charset-normalizer~=2.0.0 in c:\\users\\matth\\anaconda3\\lib\\site-packages (from requests<3,>=2.21.0->tensorboard<2.9,>=2.8->tensorflow) (2.0.4)\n",
      "Requirement already satisfied: oauthlib>=3.0.0 in c:\\users\\matth\\anaconda3\\lib\\site-packages (from requests-oauthlib>=0.7.0->google-auth-oauthlib<0.5,>=0.4.1->tensorboard<2.9,>=2.8->tensorflow) (3.2.0)\n"
     ]
    }
   ],
   "source": [
    "!pip install tensorflow"
   ]
  },
  {
   "cell_type": "code",
   "execution_count": 4,
   "id": "a9d3653a",
   "metadata": {},
   "outputs": [],
   "source": [
    "# Prepare the input data for DL \n",
    "# Load data into pandas dataframe\n",
    "# convert the dataframe to a numpy array\n",
    "# Scale the feature dataset\n",
    "# Use one-hot encoding for the targer variables (dependent variable)\n",
    "# Split in to training and testing datasets"
   ]
  },
  {
   "cell_type": "code",
   "execution_count": 5,
   "id": "a99acdd4",
   "metadata": {},
   "outputs": [],
   "source": [
    "import pandas as pd\n",
    "import os\n",
    "import tensorflow as tf\n",
    "import numpy as np\n",
    "from sklearn.preprocessing import StandardScaler\n",
    "from sklearn.model_selection import train_test_split"
   ]
  },
  {
   "cell_type": "code",
   "execution_count": 6,
   "id": "7b890e51",
   "metadata": {},
   "outputs": [
    {
     "name": "stdout",
     "output_type": "stream",
     "text": [
      "   Sepal.Length  Sepal.Width  Petal.Length  Petal.Width Species\n",
      "0           5.1          3.5           1.4          0.2  setosa\n",
      "1           4.9          3.0           1.4          0.2  setosa\n",
      "2           4.7          3.2           1.3          0.2  setosa\n",
      "3           4.6          3.1           1.5          0.2  setosa\n",
      "4           5.0          3.6           1.4          0.2  setosa\n",
      "   Sepal.Length  Sepal.Width  Petal.Length  Petal.Width  Species\n",
      "0           5.1          3.5           1.4          0.2        0\n",
      "1           4.9          3.0           1.4          0.2        0\n",
      "2           4.7          3.2           1.3          0.2        0\n",
      "3           4.6          3.1           1.5          0.2        0\n",
      "4           5.0          3.6           1.4          0.2        0\n",
      "\n",
      "Feature before scaling: \n",
      "-----------------------------------\n",
      "[[5.1 3.5 1.4 0.2]\n",
      " [4.9 3.  1.4 0.2]\n",
      " [4.7 3.2 1.3 0.2]\n",
      " [4.6 3.1 1.5 0.2]\n",
      " [5.  3.6 1.4 0.2]]\n",
      "\n",
      "Target before scaling: \n",
      "-----------------------------------\n",
      "[0. 0. 0. 0. 0.]\n",
      "\n",
      "Feature after scaling: \n",
      "-----------------------------------\n",
      "[[-0.90068117  1.01900435 -1.34022653 -1.3154443 ]\n",
      " [-1.14301691 -0.13197948 -1.34022653 -1.3154443 ]\n",
      " [-1.38535265  0.32841405 -1.39706395 -1.3154443 ]\n",
      " [-1.50652052  0.09821729 -1.2833891  -1.3154443 ]\n",
      " [-1.02184904  1.24920112 -1.34022653 -1.3154443 ]]\n",
      "\n",
      "Target after scaling: \n",
      "-----------------------------------\n",
      "[[1. 0. 0.]\n",
      " [1. 0. 0.]\n",
      " [1. 0. 0.]\n",
      " [1. 0. 0.]\n",
      " [1. 0. 0.]]\n",
      "\n",
      "Train test dimensions:\n",
      "-----------------------------------\n",
      "(135, 4) (15, 4) (135, 3) (15, 3)\n"
     ]
    }
   ],
   "source": [
    "#load the dataset\n",
    "iris_data = pd.read_csv(\"iris.csv\")\n",
    "print(iris_data.head())\n",
    "\n",
    "#use label encoder to convert string to numeric values for the target varible \n",
    "from sklearn.preprocessing import LabelEncoder\n",
    "label_encoder = LabelEncoder()\n",
    "iris_data['Species'] = label_encoder.fit_transform(iris_data['Species'])\n",
    "print(iris_data.head())\n",
    "\n",
    "#convert input into numpy array\n",
    "np_iris = iris_data.to_numpy()\n",
    "\n",
    "#separate feature and target variables \n",
    "X_data = np_iris[:,0:4]\n",
    "Y_data = np_iris[:,4]\n",
    "\n",
    "print(\"\\nFeature before scaling: \\n-----------------------------------\")\n",
    "print(X_data[:5,:])\n",
    "print(\"\\nTarget before scaling: \\n-----------------------------------\")\n",
    "print(Y_data[:5])\n",
    "\n",
    "#create a standard scaler model that is fit on the input data\n",
    "scaler = StandardScaler().fit(X_data)\n",
    "\n",
    "# scale the numeric feature variables\n",
    "X_data = scaler.transform(X_data)\n",
    "\n",
    "# convert target variable as a one hot encoding\n",
    "Y_data = tf.keras.utils.to_categorical(Y_data,3)\n",
    "\n",
    "print(\"\\nFeature after scaling: \\n-----------------------------------\")\n",
    "print(X_data[:5,:])\n",
    "print(\"\\nTarget after scaling: \\n-----------------------------------\")\n",
    "print(Y_data[:5])\n",
    "\n",
    "# Splitting training data and test data\n",
    "X_train,X_test,Y_train,Y_test = train_test_split(X_data,Y_data,test_size=0.1)\n",
    "\n",
    "print(\"\\nTrain test dimensions:\\n-----------------------------------\")\n",
    "print(X_train.shape,X_test.shape,Y_train.shape,Y_test.shape)\n"
   ]
  },
  {
   "cell_type": "code",
   "execution_count": 16,
   "id": "257c6702",
   "metadata": {},
   "outputs": [],
   "source": [
    "# creating a model\n",
    "# Number of hidden layers\n",
    "# Number of nodes in each layer\n",
    "# Activation functions\n",
    "# Loss function and accuracy measurements\n"
   ]
  },
  {
   "cell_type": "code",
   "execution_count": 8,
   "id": "cf545432",
   "metadata": {},
   "outputs": [
    {
     "name": "stdout",
     "output_type": "stream",
     "text": [
      "Model: \"sequential\"\n",
      "_________________________________________________________________\n",
      " Layer (type)                Output Shape              Param #   \n",
      "=================================================================\n",
      " Hidden-layer-1 (Dense)      (None, 128)               640       \n",
      "                                                                 \n",
      " Hidden-layer-2 (Dense)      (None, 128)               16512     \n",
      "                                                                 \n",
      " Output-layer (Dense)        (None, 3)                 387       \n",
      "                                                                 \n",
      "=================================================================\n",
      "Total params: 17,539\n",
      "Trainable params: 17,539\n",
      "Non-trainable params: 0\n",
      "_________________________________________________________________\n"
     ]
    }
   ],
   "source": [
    "from tensorflow import keras\n",
    "\n",
    "# Number of classes in the target variable\n",
    "NB_CLASSES = 3\n",
    "\n",
    "                  \n",
    "\n",
    "# Create a sequential model keras \n",
    "model = tf.keras.models.Sequential()\n",
    "\n",
    "# Add the first hidden layer\n",
    "model.add(keras.layers.Dense(128, #number of nodes\n",
    "                             input_shape = (4,), # number of input variables or number of features\n",
    "                             name =  \"Hidden-layer-1\", #logical name\n",
    "                             activation = 'relu')) # activation function \n",
    "           \n",
    "# Add a second hidden layer\n",
    "model.add(keras.layers.Dense(128,\n",
    "                            name = \"Hidden-layer-2\",\n",
    "                            activation = 'relu'))\n",
    "\n",
    "# Add an output layer with softmax function\n",
    "model.add(keras.layers.Dense(NB_CLASSES,\n",
    "                            name = \"Output-layer\",\n",
    "                            activation = 'softmax'))\n",
    "\n",
    "# Compile the model with loss and metrics\n",
    "model.compile(loss = 'categorical_crossentropy',\n",
    "             metrics = ['accuracy'])\n",
    "\n",
    "\n",
    "# Print the model meta-data\n",
    "model.summary()\n",
    "                    "
   ]
  },
  {
   "cell_type": "code",
   "execution_count": 9,
   "id": "1b6cd319",
   "metadata": {},
   "outputs": [
    {
     "name": "stdout",
     "output_type": "stream",
     "text": [
      "\n",
      "Training Progress: \n",
      "----------------------------------------\n",
      "Epoch 1/10\n",
      "7/7 [==============================] - 2s 98ms/step - loss: 0.8037 - accuracy: 0.7685 - val_loss: 0.7001 - val_accuracy: 0.7407\n",
      "Epoch 2/10\n",
      "7/7 [==============================] - 0s 15ms/step - loss: 0.5134 - accuracy: 0.8426 - val_loss: 0.5786 - val_accuracy: 0.7778\n",
      "Epoch 3/10\n",
      "7/7 [==============================] - 0s 17ms/step - loss: 0.4064 - accuracy: 0.8519 - val_loss: 0.5105 - val_accuracy: 0.7778\n",
      "Epoch 4/10\n",
      "7/7 [==============================] - 0s 14ms/step - loss: 0.3429 - accuracy: 0.8611 - val_loss: 0.4643 - val_accuracy: 0.8148\n",
      "Epoch 5/10\n",
      "7/7 [==============================] - 0s 14ms/step - loss: 0.3046 - accuracy: 0.8704 - val_loss: 0.4356 - val_accuracy: 0.7778\n",
      "Epoch 6/10\n",
      "7/7 [==============================] - 0s 14ms/step - loss: 0.2697 - accuracy: 0.8796 - val_loss: 0.4184 - val_accuracy: 0.7778\n",
      "Epoch 7/10\n",
      "7/7 [==============================] - 0s 14ms/step - loss: 0.2416 - accuracy: 0.9167 - val_loss: 0.3951 - val_accuracy: 0.8148\n",
      "Epoch 8/10\n",
      "7/7 [==============================] - 0s 14ms/step - loss: 0.2217 - accuracy: 0.9167 - val_loss: 0.3785 - val_accuracy: 0.8519\n",
      "Epoch 9/10\n",
      "7/7 [==============================] - 0s 14ms/step - loss: 0.1951 - accuracy: 0.9167 - val_loss: 0.3607 - val_accuracy: 0.8889\n",
      "Epoch 10/10\n",
      "7/7 [==============================] - 0s 14ms/step - loss: 0.1788 - accuracy: 0.9352 - val_loss: 0.3956 - val_accuracy: 0.8148\n",
      "\n",
      "Accuracy during training: \n",
      "---------------------------------\n"
     ]
    },
    {
     "data": {
      "image/png": "[encoded data removed]",
      "text/plain": [
       "<Figure size 576x360 with 1 Axes>"
      ]
     },
     "metadata": {
      "needs_background": "light"
     },
     "output_type": "display_data"
    },
    {
     "name": "stdout",
     "output_type": "stream",
     "text": [
      "\n",
      "Evaluation against Test Dataset: \n",
      "--------------------------\n",
      "1/1 [==============================] - 0s 50ms/step - loss: 0.3665 - accuracy: 0.9333\n"
     ]
    },
    {
     "data": {
      "text/plain": [
       "[0.366523414850235, 0.9333333373069763]"
      ]
     },
     "execution_count": 9,
     "metadata": {},
     "output_type": "execute_result"
    }
   ],
   "source": [
    "# Training and evaluating the model\n",
    "\n",
    "# Make it verbose so we can see the process\n",
    "VERBOSE = 1\n",
    "\n",
    "# Set hyperparameters for training\n",
    "# set batch size\n",
    "BATCH_SIZE = 16 \n",
    "# Set the number of epochs\n",
    "EPOCHS = 10\n",
    "# Set the validation split. 20% of the training data will be used for validation\n",
    "VALIDATION_SPLIT = 0.2\n",
    "\n",
    "print(\"\\nTraining Progress: \\n----------------------------------------\")\n",
    "\n",
    "# Fit the model. This will perform the entire training cycle, including forward propagation,\n",
    "# loss computation, backward propagation and gradient descent.\n",
    "# Execute for the specified batch sizes and epochs\n",
    "# Perform validation after each epoch\n",
    "\n",
    "history = model.fit(X_train,\n",
    "                   Y_train,\n",
    "                   batch_size=BATCH_SIZE,\n",
    "                   epochs = EPOCHS,\n",
    "                   verbose = VERBOSE,\n",
    "                   validation_split=VALIDATION_SPLIT)\n",
    "\n",
    "print(\"\\nAccuracy during training: \\n---------------------------------\")\n",
    "\n",
    "import matplotlib.pyplot as plt\n",
    "\n",
    "# Plot the accuracy of the model after each epoch\n",
    "pd.DataFrame(history.history)[\"accuracy\"].plot(figsize = (8,5))\n",
    "plt.title(\"Accuracy improvement with each epoch\")\n",
    "plt.show()\n",
    "\n",
    "# Evaluate the model against the test dataset and print result\n",
    "print(\"\\nEvaluation against Test Dataset: \\n--------------------------\")\n",
    "model.evaluate(X_test,Y_test)"
   ]
  },
  {
   "cell_type": "code",
   "execution_count": 13,
   "id": "fcccd026",
   "metadata": {},
   "outputs": [
    {
     "name": "stderr",
     "output_type": "stream",
     "text": [
      "WARNING:absl:Function `_wrapped_model` contains input name(s) Hidden-layer-1_input with unsupported characters which will be renamed to hidden_layer_1_input in the SavedModel.\n"
     ]
    },
    {
     "name": "stdout",
     "output_type": "stream",
     "text": [
      "INFO:tensorflow:Assets written to: iris_save\\assets\n"
     ]
    },
    {
     "name": "stderr",
     "output_type": "stream",
     "text": [
      "INFO:tensorflow:Assets written to: iris_save\\assets\n"
     ]
    },
    {
     "name": "stdout",
     "output_type": "stream",
     "text": [
      "Model: \"sequential\"\n",
      "_________________________________________________________________\n",
      " Layer (type)                Output Shape              Param #   \n",
      "=================================================================\n",
      " Hidden-layer-1 (Dense)      (None, 128)               640       \n",
      "                                                                 \n",
      " Hidden-layer-2 (Dense)      (None, 128)               16512     \n",
      "                                                                 \n",
      " Output-layer (Dense)        (None, 3)                 387       \n",
      "                                                                 \n",
      "=================================================================\n",
      "Total params: 17,539\n",
      "Trainable params: 17,539\n",
      "Non-trainable params: 0\n",
      "_________________________________________________________________\n"
     ]
    }
   ],
   "source": [
    "# Saving the model\n",
    "model.save(\"iris_save\")\n",
    "\n",
    "#Loading the model\n",
    "loaded_model = keras.models.load_model(\"iris_save\")\n",
    "\n",
    "# print the model summary\n",
    "loaded_model.summary()"
   ]
  },
  {
   "cell_type": "code",
   "execution_count": 15,
   "id": "1964b00c",
   "metadata": {},
   "outputs": [
    {
     "name": "stdout",
     "output_type": "stream",
     "text": [
      "Raw Prediction Output (Probabilities): [[0.03882463 0.44173503 0.51944035]]\n",
      "Prediction is  ['virginica']\n"
     ]
    }
   ],
   "source": [
    "# Predictions with DL models\n",
    "\n",
    "# Raw prediction data\n",
    "prediction_input = [[6.6,3.5,4.4,1.8]]\n",
    "\n",
    "# scale production data with the same scaling data\n",
    "scaled_input = scaler.transform(prediction_input)\n",
    "\n",
    "# get raw prediction probabilities\n",
    "raw_prediction = model.predict(scaled_input)\n",
    "print(\"Raw Prediction Output (Probabilities):\",raw_prediction)\n",
    "\n",
    "# Find Prediction\n",
    "prediction = np.argmax(raw_prediction)\n",
    "print(\"Prediction is \",label_encoder.inverse_transform([prediction]))"
   ]
  },
  {
   "cell_type": "code",
   "execution_count": null,
   "id": "de782709",
   "metadata": {},
   "outputs": [],
   "source": []
  }
 ],
 "metadata": {
  "kernelspec": {
   "display_name": "Python 3 (ipykernel)",
   "language": "python",
   "name": "python3"
  },
  "language_info": {
   "codemirror_mode": {
    "name": "ipython",
    "version": 3
   },
   "file_extension": ".py",
   "mimetype": "text/x-python",
   "name": "python",
   "nbconvert_exporter": "python",
   "pygments_lexer": "ipython3",
   "version": "3.9.7"
  }
 },
 "nbformat": 4,
 "nbformat_minor": 5
}
